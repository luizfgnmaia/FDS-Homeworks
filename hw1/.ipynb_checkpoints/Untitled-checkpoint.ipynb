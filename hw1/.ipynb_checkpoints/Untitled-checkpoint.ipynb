{
 "cells": [
  {
   "cell_type": "code",
   "execution_count": 3,
   "metadata": {},
   "outputs": [],
   "source": [
    "from scrape_scholar import *\n",
    "\n",
    "\n",
    "import pandas as pd\n",
    "\n"
   ]
  },
  {
   "cell_type": "code",
   "execution_count": null,
   "metadata": {},
   "outputs": [],
   "source": [
    "author_name = \"Rodrigo Targino\"\n",
    "data = scrape(author_name)"
   ]
  },
  {
   "cell_type": "code",
   "execution_count": 8,
   "metadata": {},
   "outputs": [],
   "source": [
    "df = pd.DataFrame(data)"
   ]
  },
  {
   "cell_type": "code",
   "execution_count": 9,
   "metadata": {},
   "outputs": [
    {
     "data": {
      "text/html": [
       "<div>\n",
       "<style scoped>\n",
       "    .dataframe tbody tr th:only-of-type {\n",
       "        vertical-align: middle;\n",
       "    }\n",
       "\n",
       "    .dataframe tbody tr th {\n",
       "        vertical-align: top;\n",
       "    }\n",
       "\n",
       "    .dataframe thead th {\n",
       "        text-align: right;\n",
       "    }\n",
       "</style>\n",
       "<table border=\"1\" class=\"dataframe\">\n",
       "  <thead>\n",
       "    <tr style=\"text-align: right;\">\n",
       "      <th></th>\n",
       "      <th>authors</th>\n",
       "      <th>title</th>\n",
       "    </tr>\n",
       "  </thead>\n",
       "  <tbody>\n",
       "    <tr>\n",
       "      <th>0</th>\n",
       "      <td>[RS Targino, GW Peters, PV Shevchenko]</td>\n",
       "      <td>Sequential Monte Carlo samplers for capital al...</td>\n",
       "    </tr>\n",
       "    <tr>\n",
       "      <th>1</th>\n",
       "      <td>[GW Peters, RS Targino, PV Shevchenko]</td>\n",
       "      <td>Understanding operational risk capital approxi...</td>\n",
       "    </tr>\n",
       "    <tr>\n",
       "      <th>2</th>\n",
       "      <td>[RS Targino, GW Peters, G Sofronov, PV Shevche...</td>\n",
       "      <td>Optimal exercise strategies for operational ri...</td>\n",
       "    </tr>\n",
       "    <tr>\n",
       "      <th>3</th>\n",
       "      <td>[G Peters, R Targino, M Wüthrich]</td>\n",
       "      <td>Bayesian modelling, Monte Carlo sampling and c...</td>\n",
       "    </tr>\n",
       "    <tr>\n",
       "      <th>4</th>\n",
       "      <td>[GW Peters, RS Targino, MV Wüthrich]</td>\n",
       "      <td>Full bayesian analysis of claims reserving unc...</td>\n",
       "    </tr>\n",
       "    <tr>\n",
       "      <th>5</th>\n",
       "      <td>[M Merkle, YF Saporito, RS Targino]</td>\n",
       "      <td>Bayesian Approach for Parameter Estimation of ...</td>\n",
       "    </tr>\n",
       "    <tr>\n",
       "      <th>6</th>\n",
       "      <td>[D Duarte, Y Saporito, R Targino]</td>\n",
       "      <td>The Impact of the Freedom of the Press on Risk</td>\n",
       "    </tr>\n",
       "    <tr>\n",
       "      <th>7</th>\n",
       "      <td>[RS Targino]</td>\n",
       "      <td>SMC samplers for capital allocation under copu...</td>\n",
       "    </tr>\n",
       "    <tr>\n",
       "      <th>8</th>\n",
       "      <td>[R dos Santos Targino]</td>\n",
       "      <td>Teoremas de Nao-Arbitragem em Mercados Regidos...</td>\n",
       "    </tr>\n",
       "    <tr>\n",
       "      <th>9</th>\n",
       "      <td>[RS Targino, GW Peters, PV Shevchenko]</td>\n",
       "      <td>SMC samplers, rare events and the allocation o...</td>\n",
       "    </tr>\n",
       "    <tr>\n",
       "      <th>10</th>\n",
       "      <td>[YF Saporito, RS Targino, M Merkle]</td>\n",
       "      <td>Hedging in Incomplete Markets Using Fourier Se...</td>\n",
       "    </tr>\n",
       "    <tr>\n",
       "      <th>11</th>\n",
       "      <td>[YF Saporito, RS Targino, M Merkle]</td>\n",
       "      <td>Bayesian Selection for Heston Models with Vola...</td>\n",
       "    </tr>\n",
       "  </tbody>\n",
       "</table>\n",
       "</div>"
      ],
      "text/plain": [
       "                                              authors  \\\n",
       "0              [RS Targino, GW Peters, PV Shevchenko]   \n",
       "1              [GW Peters, RS Targino, PV Shevchenko]   \n",
       "2   [RS Targino, GW Peters, G Sofronov, PV Shevche...   \n",
       "3                   [G Peters, R Targino, M Wüthrich]   \n",
       "4                [GW Peters, RS Targino, MV Wüthrich]   \n",
       "5                 [M Merkle, YF Saporito, RS Targino]   \n",
       "6                   [D Duarte, Y Saporito, R Targino]   \n",
       "7                                        [RS Targino]   \n",
       "8                              [R dos Santos Targino]   \n",
       "9              [RS Targino, GW Peters, PV Shevchenko]   \n",
       "10                [YF Saporito, RS Targino, M Merkle]   \n",
       "11                [YF Saporito, RS Targino, M Merkle]   \n",
       "\n",
       "                                                title  \n",
       "0   Sequential Monte Carlo samplers for capital al...  \n",
       "1   Understanding operational risk capital approxi...  \n",
       "2   Optimal exercise strategies for operational ri...  \n",
       "3   Bayesian modelling, Monte Carlo sampling and c...  \n",
       "4   Full bayesian analysis of claims reserving unc...  \n",
       "5   Bayesian Approach for Parameter Estimation of ...  \n",
       "6      The Impact of the Freedom of the Press on Risk  \n",
       "7   SMC samplers for capital allocation under copu...  \n",
       "8   Teoremas de Nao-Arbitragem em Mercados Regidos...  \n",
       "9   SMC samplers, rare events and the allocation o...  \n",
       "10  Hedging in Incomplete Markets Using Fourier Se...  \n",
       "11  Bayesian Selection for Heston Models with Vola...  "
      ]
     },
     "execution_count": 9,
     "metadata": {},
     "output_type": "execute_result"
    }
   ],
   "source": [
    "df"
   ]
  },
  {
   "cell_type": "code",
   "execution_count": 15,
   "metadata": {},
   "outputs": [
    {
     "ename": "NameError",
     "evalue": "name 'sqlite3' is not defined",
     "output_type": "error",
     "traceback": [
      "\u001b[1;31m---------------------------------------------------------------------------\u001b[0m",
      "\u001b[1;31mNameError\u001b[0m                                 Traceback (most recent call last)",
      "\u001b[1;32m<ipython-input-15-4129a20239a0>\u001b[0m in \u001b[0;36m<module>\u001b[1;34m()\u001b[0m\n\u001b[1;32m----> 1\u001b[1;33m \u001b[0mconn\u001b[0m \u001b[1;33m=\u001b[0m \u001b[0msqlite3\u001b[0m\u001b[1;33m.\u001b[0m\u001b[0mconnect\u001b[0m\u001b[1;33m(\u001b[0m\u001b[1;34m'db.db'\u001b[0m\u001b[1;33m)\u001b[0m\u001b[1;33m\u001b[0m\u001b[0m\n\u001b[0m\u001b[0;32m      2\u001b[0m \u001b[0mcur\u001b[0m \u001b[1;33m=\u001b[0m \u001b[0mconn\u001b[0m\u001b[1;33m.\u001b[0m\u001b[0mcursor\u001b[0m\u001b[1;33m(\u001b[0m\u001b[1;33m)\u001b[0m\u001b[1;33m\u001b[0m\u001b[0m\n\u001b[0;32m      3\u001b[0m \u001b[1;33m\u001b[0m\u001b[0m\n\u001b[0;32m      4\u001b[0m cur.executescript('''\n\u001b[0;32m      5\u001b[0m \u001b[1;33m\u001b[0m\u001b[0m\n",
      "\u001b[1;31mNameError\u001b[0m: name 'sqlite3' is not defined"
     ]
    }
   ],
   "source": [
    "conn = sqlite3.connect('db.db')\n",
    "cur = conn.cursor()\n",
    "\n",
    "cur.executescript('''\n",
    "\n",
    "CREATE TABLE data(\n",
    "authors TEXT NOT NULL UNIQUE,\n",
    "title TEXT NOT NULL UNIQUE);\n",
    "''')"
   ]
  }
 ],
 "metadata": {
  "kernelspec": {
   "display_name": "Python 3",
   "language": "python",
   "name": "python3"
  },
  "language_info": {
   "codemirror_mode": {
    "name": "ipython",
    "version": 3
   },
   "file_extension": ".py",
   "mimetype": "text/x-python",
   "name": "python",
   "nbconvert_exporter": "python",
   "pygments_lexer": "ipython3",
   "version": "3.6.5"
  }
 },
 "nbformat": 4,
 "nbformat_minor": 2
}
