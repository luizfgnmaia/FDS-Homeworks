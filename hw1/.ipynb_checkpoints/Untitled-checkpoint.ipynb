{
 "cells": [
  {
   "cell_type": "code",
   "execution_count": 1,
   "metadata": {},
   "outputs": [],
   "source": [
    "from scrape_scholar import *\n",
    "import sqlite3 \n",
    "import pandas as pd\n",
    "import numpy as np\n",
    "import networkx as nx\n",
    "import altair as alt\n",
    "import nx_altair as nxa\n",
    "import numpy as np\n",
    "import scipy.sparse as sp\n",
    "import matplotlib.pyplot as plt\n",
    "import pylab\n",
    "from flask import Flask, render_template, request, redirect"
   ]
  },
  {
   "cell_type": "markdown",
   "metadata": {},
   "source": [
    "<hr>"
   ]
  },
  {
   "cell_type": "code",
   "execution_count": null,
   "metadata": {},
   "outputs": [],
   "source": [
    "\n",
    "    conn = sqlite3.connect(\"db.db\")\n",
    "    cur = conn.cursor()\n",
    "    df = pd.read_sql(\"SELECT * FROM author_paper\", conn)\n",
    "    conn.close()\n",
    "\n",
    "    df = df[[\"paper\", \"author\"]]\n",
    "    df[\"values\"] = 1\n",
    "\n",
    "    lst = list(df[\"author\"])\n",
    "    names = sorted(list(set(lst)))\n",
    "\n",
    "    df = df.pivot_table(index = \"paper\", columns = \"author\").fillna(0)\n",
    "    df.index.name = None\n",
    "\n",
    "    cols = df.columns\n",
    "    X = sp.csr_matrix(df.astype(int).values)\n",
    "    Xc = X.T * X  \n",
    "    Xc.setdiag(0)  \n",
    "\n",
    "    df = pd.DataFrame(Xc.todense(), index = cols, columns = cols)\n",
    "    graph = nx.from_numpy_matrix(df.values.astype(int))\n",
    "\n",
    "    graph = nx.relabel_nodes(graph, dict(enumerate(names)))\n",
    "    pos = nx.spring_layout(graph)\n",
    "\n",
    "    cont = 0\n",
    "    for n in graph.nodes():\n",
    "        graph.nodes[n][\"author\"] = names[cont]\n",
    "        cont += 1\n",
    "\n",
    "    chart = nxa.draw_networkx(G = graph, pos = pos, node_tooltip = [\"author\"]).interactive()"
   ]
  }
 ],
 "metadata": {
  "kernelspec": {
   "display_name": "Python 3",
   "language": "python",
   "name": "python3"
  },
  "language_info": {
   "codemirror_mode": {
    "name": "ipython",
    "version": 3
   },
   "file_extension": ".py",
   "mimetype": "text/x-python",
   "name": "python",
   "nbconvert_exporter": "python",
   "pygments_lexer": "ipython3",
   "version": "3.6.5"
  }
 },
 "nbformat": 4,
 "nbformat_minor": 2
}
