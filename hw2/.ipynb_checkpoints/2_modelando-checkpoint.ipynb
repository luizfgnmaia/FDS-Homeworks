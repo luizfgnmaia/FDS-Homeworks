{
 "cells": [
  {
   "cell_type": "code",
   "execution_count": 71,
   "metadata": {},
   "outputs": [],
   "source": [
    "import pandas as pd\n",
    "from sklearn.linear_model import LogisticRegression # # https://www.quora.com/Does-scikit-learn-support-ordinal-logistic-regression\n",
    "from sklearn.model_selection import train_test_split # https://towardsdatascience.com/train-test-split-and-cross-validation-in-python-80b61beca4b6\n",
    "from sklearn.metrics import confusion_matrix # https://scikit-learn.org/stable/auto_examples/model_selection/plot_confusion_matrix.html\n",
    "from sklearn.metrics import accuracy_score # https://scikit-learn.org/stable/modules/generated/sklearn.metrics.accuracy_score.html"
   ]
  },
  {
   "cell_type": "markdown",
   "metadata": {},
   "source": [
    "## Separando em data sets de treino e teste (80-20)"
   ]
  },
  {
   "cell_type": "code",
   "execution_count": 90,
   "metadata": {},
   "outputs": [],
   "source": [
    "data = pd.read_csv(\"./data.csv\", sep = ';', decimal = ',')\n",
    "Y = data.Y\n",
    "X = data.drop(columns = ['COD', 'Y'])"
   ]
  },
  {
   "cell_type": "code",
   "execution_count": 96,
   "metadata": {
    "scrolled": true
   },
   "outputs": [],
   "source": [
    "X_train, X_test, Y_train, Y_test = train_test_split(X, Y, test_size = 0.2, stratify = Y)"
   ]
  },
  {
   "cell_type": "markdown",
   "metadata": {},
   "source": [
    "## Ajustando um Modelo Ordenado Logit"
   ]
  },
  {
   "cell_type": "code",
   "execution_count": 97,
   "metadata": {},
   "outputs": [],
   "source": [
    "mul_lr = LogisticRegression(  \n",
    "multi_class = 'multinomial',\n",
    "solver = 'newton-cg',\n",
    "max_iter = 100000,\n",
    "fit_intercept = True\n",
    ").fit(X_train, Y_train)"
   ]
  },
  {
   "cell_type": "code",
   "execution_count": 98,
   "metadata": {
    "scrolled": true
   },
   "outputs": [],
   "source": [
    "yhat = []\n",
    "for row in X_test.iterrows():\n",
    "    pred = pd.DataFrame(columns = X_test.columns)\n",
    "    pred.loc[0] = [row[1]['ENEM2013'], row[1]['INSE_AB'], row[1]['TIPOESC'], row[1]['N_PART'], row[1]['SUL'], row[1]['NORTE'], row[1]['OESTE'], row[1]['CENTRO']]\n",
    "    yhat.append(int(mul_lr.predict(pred)))"
   ]
  },
  {
   "cell_type": "markdown",
   "metadata": {},
   "source": [
    "## Matriz de confusão"
   ]
  },
  {
   "cell_type": "code",
   "execution_count": 99,
   "metadata": {},
   "outputs": [
    {
     "data": {
      "text/plain": [
       "array([[12,  3,  0,  0],\n",
       "       [ 3, 95,  1,  0],\n",
       "       [ 0,  8,  8,  1],\n",
       "       [ 0,  0,  3,  5]], dtype=int64)"
      ]
     },
     "execution_count": 99,
     "metadata": {},
     "output_type": "execute_result"
    }
   ],
   "source": [
    "ytrue = Y_test.values\n",
    "confusion_matrix(ytrue, yhat)"
   ]
  },
  {
   "cell_type": "markdown",
   "metadata": {},
   "source": [
    "## Acurácia na base de teste"
   ]
  },
  {
   "cell_type": "code",
   "execution_count": 100,
   "metadata": {},
   "outputs": [
    {
     "data": {
      "text/plain": [
       "0.8633093525179856"
      ]
     },
     "execution_count": 100,
     "metadata": {},
     "output_type": "execute_result"
    }
   ],
   "source": [
    "accuracy_score(ytrue, yhat)"
   ]
  }
 ],
 "metadata": {
  "kernelspec": {
   "display_name": "Python 3",
   "language": "python",
   "name": "python3"
  },
  "language_info": {
   "codemirror_mode": {
    "name": "ipython",
    "version": 3
   },
   "file_extension": ".py",
   "mimetype": "text/x-python",
   "name": "python",
   "nbconvert_exporter": "python",
   "pygments_lexer": "ipython3",
   "version": "3.6.5"
  }
 },
 "nbformat": 4,
 "nbformat_minor": 2
}
